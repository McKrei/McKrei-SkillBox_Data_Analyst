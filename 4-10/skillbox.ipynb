{
 "cells": [
  {
   "cell_type": "markdown",
   "metadata": {},
   "source": [
    "Бинарный поиск"
   ]
  },
  {
   "cell_type": "code",
   "execution_count": 5,
   "metadata": {},
   "outputs": [
    {
     "name": "stdout",
     "output_type": "stream",
     "text": [
      "False\n"
     ]
    }
   ],
   "source": [
    "input_data = [1, 8, 6, 7, 9, 10, 12, 22, 31, 45, 89, 5, 101]\n",
    "key = 122\n",
    "input_data.sort()\n",
    "B = 0\n",
    "E = len(input_data) - 1\n",
    "found = False\n",
    "\n",
    "while True:\n",
    "    mid_index = int((B + E) / 2)\n",
    "    mid_value = input_data[mid_index]\n",
    "\n",
    "    if mid_value == key:\n",
    "        found = True\n",
    "        break\n",
    "    elif B == E:\n",
    "        break\n",
    "    elif mid_value < key:\n",
    "        B = mid_index + 1\n",
    "    else:\n",
    "        E = mid_index - 1\n",
    "\n",
    "print(found)\n",
    "\n",
    "\n",
    "\n"
   ]
  },
  {
   "cell_type": "code",
   "execution_count": 43,
   "metadata": {},
   "outputs": [
    {
     "name": "stdout",
     "output_type": "stream",
     "text": [
      "614 нет в списке.\n"
     ]
    }
   ],
   "source": [
    "from random import randint\n",
    "\n",
    "my_list = []\n",
    "for _ in range(randint(100, 1000)):\n",
    "    el = randint(1, 999)\n",
    "    if el not in my_list:\n",
    "        my_list.append(el)\n",
    "\n",
    "my_list.sort()\n",
    "key = randint(1, 999)\n",
    "\n",
    "B = 0\n",
    "E = len(my_list) - 1\n",
    "while True:\n",
    "    mid_index = int((E + B)/2)\n",
    "    mid_value = my_list[mid_index]\n",
    "    if mid_value == key:\n",
    "        print(f'{key} есть в списке.')\n",
    "        break\n",
    "    elif E == B:\n",
    "        print(f'{key} нет в списке.')\n",
    "        break\n",
    "    elif mid_value > key:\n",
    "        E = mid_index - 1\n",
    "    else:\n",
    "        B = mid_index + 1\n",
    "\n"
   ]
  },
  {
   "cell_type": "markdown",
   "metadata": {},
   "source": [
    "Пузырьковая сортировка"
   ]
  },
  {
   "cell_type": "code",
   "execution_count": 46,
   "metadata": {},
   "outputs": [
    {
     "name": "stdout",
     "output_type": "stream",
     "text": [
      "[1, 1, 2, 3, 4, 9, 9, 11, 21, 21, 25, 44, 55, 66, 101]\n"
     ]
    }
   ],
   "source": [
    "_list = [2,9,4,9,44,21,3,1,101,25,66,55,21,11,1]\n",
    "l = len(_list) -1\n",
    "while True:\n",
    "    for i in range(l):\n",
    "        if _list[i] > _list[i+1]:\n",
    "            _list[i], _list[i+1] = _list[i+1], _list[i]\n",
    "    if l == 1:\n",
    "        break\n",
    "    l -= 1\n",
    "print(_list)"
   ]
  },
  {
   "cell_type": "markdown",
   "metadata": {},
   "source": [
    "Слияние отсортированных списков"
   ]
  },
  {
   "cell_type": "code",
   "execution_count": 54,
   "metadata": {},
   "outputs": [
    {
     "name": "stdout",
     "output_type": "stream",
     "text": [
      "[5, 5]\n"
     ]
    }
   ],
   "source": [
    "list_1 = [5]\n",
    "list_2 = [5]\n",
    "result_list = []\n",
    "i1 = i2 = 0\n",
    "while i1 != len(list_1) and i2 != len(list_2):\n",
    "    if list_1[i1] > list_2[i2]:\n",
    "        result_list.append(list_2[i2])\n",
    "        i2 += 1\n",
    "    elif list_1[i1] <list_2[i2]:\n",
    "        result_list.append(list_1[i1])\n",
    "        i1 += 1\n",
    "    else:\n",
    "        result_list += list_1[i1], list_2[i2]\n",
    "        i1 += 1\n",
    "        i2 += 1    \n",
    "    if i1 == len(list_1):\n",
    "        result_list += list_2[i2:]\n",
    "        break\n",
    "    elif i2 == len(list_2):\n",
    "        result_list += list_1[i1:]\n",
    "        break\n",
    "\n",
    "print(result_list)\n",
    "\n"
   ]
  }
 ],
 "metadata": {
  "interpreter": {
   "hash": "348907d6a805e3aff18463777e68219ad9f9877e8378b9312fcb98293899dbee"
  },
  "kernelspec": {
   "display_name": "Python 3.8.10 64-bit",
   "language": "python",
   "name": "python3"
  },
  "language_info": {
   "codemirror_mode": {
    "name": "ipython",
    "version": 3
   },
   "file_extension": ".py",
   "mimetype": "text/x-python",
   "name": "python",
   "nbconvert_exporter": "python",
   "pygments_lexer": "ipython3",
   "version": "3.8.10"
  },
  "orig_nbformat": 4
 },
 "nbformat": 4,
 "nbformat_minor": 2
}
